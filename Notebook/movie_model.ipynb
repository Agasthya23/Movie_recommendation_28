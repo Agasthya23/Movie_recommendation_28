{
  "cells": [
    {
      "cell_type": "markdown",
      "source": [
        "#Importing libraries\n"
      ],
      "metadata": {
        "id": "r4akOINucpLM"
      }
    },
    {
      "cell_type": "code",
      "execution_count": 1,
      "metadata": {
        "id": "kf8nzaPncqwD"
      },
      "outputs": [],
      "source": [
        "import numpy as np\n",
        "import pandas as pd\n",
        "import difflib\n",
        "from sklearn.feature_extraction.text import TfidfVectorizer\n",
        "from sklearn.metrics.pairwise import cosine_similarity\n"
      ]
    },
    {
      "cell_type": "code",
      "execution_count": 2,
      "metadata": {
        "id": "jU-Ijj8RcwH0"
      },
      "outputs": [],
      "source": [
        "movie_data=pd.read_csv('/content/drive/MyDrive/Movie_Recommendation_System/movie_infob.csv',header=None)\n",
        "cast_data=pd.read_csv('/content/drive/MyDrive/Movie_Recommendation_System/crew_infob.csv',header=None)\n",
        "movie_id=pd.read_csv('/content/drive/MyDrive/Movie_Recommendation_System/movie_id_list.csv',header=[0])\n"
      ]
    },
    {
      "cell_type": "code",
      "execution_count": 3,
      "metadata": {
        "id": "FuMTtOQidBFZ"
      },
      "outputs": [],
      "source": [
        "#Combine both Dataframes\n",
        "data=pd.concat([movie_id,movie_data,cast_data],axis=1,join='inner')\n",
        "\n",
        "#Add Column Names\n",
        "data.columns=['index','movie_id','movie_name','movie_genre','movie_overview','movie_cast','movie_director']\n"
      ]
    },
    {
      "cell_type": "code",
      "source": [
        "data.head()"
      ],
      "metadata": {
        "colab": {
          "base_uri": "https://localhost:8080/",
          "height": 423
        },
        "id": "f3iebbX7ED9e",
        "outputId": "b9b48160-d1d5-49a3-c9b4-84e606f80a31"
      },
      "execution_count": 4,
      "outputs": [
        {
          "output_type": "execute_result",
          "data": {
            "text/plain": [
              "   index  movie_id                      movie_name  \\\n",
              "0      0      4247                     Scary Movie   \n",
              "1      1     11688        The Emperor's New Groove   \n",
              "2      2     10567                        Dinosaur   \n",
              "3      3      8871  How the Grinch Stole Christmas   \n",
              "4      4     16366          Joseph: King of Dreams   \n",
              "\n",
              "                                 movie_genre  \\\n",
              "0                                     Comedy   \n",
              "1  Adventure,Animation,Comedy,Family,Fantasy   \n",
              "2                           Family,Animation   \n",
              "3                      Family,Comedy,Fantasy   \n",
              "4                           Family,Animation   \n",
              "\n",
              "                                      movie_overview  \\\n",
              "0  A familiar-looking group of teenagers find the...   \n",
              "1  Kuzco is a self-centered emperor who summons P...   \n",
              "2  An orphaned dinosaur raised by lemurs joins an...   \n",
              "3  Inside a snowflake exists the magical land of ...   \n",
              "4  In this animated retelling of the story from t...   \n",
              "\n",
              "                                          movie_cast       movie_director  \n",
              "0   Anna Faris,Jon Abrahams,Marlon Wayans,Shawn W...  Keenen Ivory Wayans  \n",
              "1   David Spade,John Goodman,Eartha Kitt,Patrick ...          Mark Dindal  \n",
              "2   D. B. Sweeney,Alfre Woodard,Ossie Davis,Max C...         Ralph Zondag  \n",
              "3   Jim Carrey,Taylor Momsen,Jeffrey Tambor,Chris...           Ron Howard  \n",
              "4   Ben Affleck,Mark Hamill,Richard Herd,Maureen ...           Rob LaDuca  "
            ],
            "text/html": [
              "\n",
              "  <div id=\"df-81b07772-8e8f-4fcd-9a29-91e8637670ca\">\n",
              "    <div class=\"colab-df-container\">\n",
              "      <div>\n",
              "<style scoped>\n",
              "    .dataframe tbody tr th:only-of-type {\n",
              "        vertical-align: middle;\n",
              "    }\n",
              "\n",
              "    .dataframe tbody tr th {\n",
              "        vertical-align: top;\n",
              "    }\n",
              "\n",
              "    .dataframe thead th {\n",
              "        text-align: right;\n",
              "    }\n",
              "</style>\n",
              "<table border=\"1\" class=\"dataframe\">\n",
              "  <thead>\n",
              "    <tr style=\"text-align: right;\">\n",
              "      <th></th>\n",
              "      <th>index</th>\n",
              "      <th>movie_id</th>\n",
              "      <th>movie_name</th>\n",
              "      <th>movie_genre</th>\n",
              "      <th>movie_overview</th>\n",
              "      <th>movie_cast</th>\n",
              "      <th>movie_director</th>\n",
              "    </tr>\n",
              "  </thead>\n",
              "  <tbody>\n",
              "    <tr>\n",
              "      <th>0</th>\n",
              "      <td>0</td>\n",
              "      <td>4247</td>\n",
              "      <td>Scary Movie</td>\n",
              "      <td>Comedy</td>\n",
              "      <td>A familiar-looking group of teenagers find the...</td>\n",
              "      <td>Anna Faris,Jon Abrahams,Marlon Wayans,Shawn W...</td>\n",
              "      <td>Keenen Ivory Wayans</td>\n",
              "    </tr>\n",
              "    <tr>\n",
              "      <th>1</th>\n",
              "      <td>1</td>\n",
              "      <td>11688</td>\n",
              "      <td>The Emperor's New Groove</td>\n",
              "      <td>Adventure,Animation,Comedy,Family,Fantasy</td>\n",
              "      <td>Kuzco is a self-centered emperor who summons P...</td>\n",
              "      <td>David Spade,John Goodman,Eartha Kitt,Patrick ...</td>\n",
              "      <td>Mark Dindal</td>\n",
              "    </tr>\n",
              "    <tr>\n",
              "      <th>2</th>\n",
              "      <td>2</td>\n",
              "      <td>10567</td>\n",
              "      <td>Dinosaur</td>\n",
              "      <td>Family,Animation</td>\n",
              "      <td>An orphaned dinosaur raised by lemurs joins an...</td>\n",
              "      <td>D. B. Sweeney,Alfre Woodard,Ossie Davis,Max C...</td>\n",
              "      <td>Ralph Zondag</td>\n",
              "    </tr>\n",
              "    <tr>\n",
              "      <th>3</th>\n",
              "      <td>3</td>\n",
              "      <td>8871</td>\n",
              "      <td>How the Grinch Stole Christmas</td>\n",
              "      <td>Family,Comedy,Fantasy</td>\n",
              "      <td>Inside a snowflake exists the magical land of ...</td>\n",
              "      <td>Jim Carrey,Taylor Momsen,Jeffrey Tambor,Chris...</td>\n",
              "      <td>Ron Howard</td>\n",
              "    </tr>\n",
              "    <tr>\n",
              "      <th>4</th>\n",
              "      <td>4</td>\n",
              "      <td>16366</td>\n",
              "      <td>Joseph: King of Dreams</td>\n",
              "      <td>Family,Animation</td>\n",
              "      <td>In this animated retelling of the story from t...</td>\n",
              "      <td>Ben Affleck,Mark Hamill,Richard Herd,Maureen ...</td>\n",
              "      <td>Rob LaDuca</td>\n",
              "    </tr>\n",
              "  </tbody>\n",
              "</table>\n",
              "</div>\n",
              "      <button class=\"colab-df-convert\" onclick=\"convertToInteractive('df-81b07772-8e8f-4fcd-9a29-91e8637670ca')\"\n",
              "              title=\"Convert this dataframe to an interactive table.\"\n",
              "              style=\"display:none;\">\n",
              "        \n",
              "  <svg xmlns=\"http://www.w3.org/2000/svg\" height=\"24px\"viewBox=\"0 0 24 24\"\n",
              "       width=\"24px\">\n",
              "    <path d=\"M0 0h24v24H0V0z\" fill=\"none\"/>\n",
              "    <path d=\"M18.56 5.44l.94 2.06.94-2.06 2.06-.94-2.06-.94-.94-2.06-.94 2.06-2.06.94zm-11 1L8.5 8.5l.94-2.06 2.06-.94-2.06-.94L8.5 2.5l-.94 2.06-2.06.94zm10 10l.94 2.06.94-2.06 2.06-.94-2.06-.94-.94-2.06-.94 2.06-2.06.94z\"/><path d=\"M17.41 7.96l-1.37-1.37c-.4-.4-.92-.59-1.43-.59-.52 0-1.04.2-1.43.59L10.3 9.45l-7.72 7.72c-.78.78-.78 2.05 0 2.83L4 21.41c.39.39.9.59 1.41.59.51 0 1.02-.2 1.41-.59l7.78-7.78 2.81-2.81c.8-.78.8-2.07 0-2.86zM5.41 20L4 18.59l7.72-7.72 1.47 1.35L5.41 20z\"/>\n",
              "  </svg>\n",
              "      </button>\n",
              "      \n",
              "  <style>\n",
              "    .colab-df-container {\n",
              "      display:flex;\n",
              "      flex-wrap:wrap;\n",
              "      gap: 12px;\n",
              "    }\n",
              "\n",
              "    .colab-df-convert {\n",
              "      background-color: #E8F0FE;\n",
              "      border: none;\n",
              "      border-radius: 50%;\n",
              "      cursor: pointer;\n",
              "      display: none;\n",
              "      fill: #1967D2;\n",
              "      height: 32px;\n",
              "      padding: 0 0 0 0;\n",
              "      width: 32px;\n",
              "    }\n",
              "\n",
              "    .colab-df-convert:hover {\n",
              "      background-color: #E2EBFA;\n",
              "      box-shadow: 0px 1px 2px rgba(60, 64, 67, 0.3), 0px 1px 3px 1px rgba(60, 64, 67, 0.15);\n",
              "      fill: #174EA6;\n",
              "    }\n",
              "\n",
              "    [theme=dark] .colab-df-convert {\n",
              "      background-color: #3B4455;\n",
              "      fill: #D2E3FC;\n",
              "    }\n",
              "\n",
              "    [theme=dark] .colab-df-convert:hover {\n",
              "      background-color: #434B5C;\n",
              "      box-shadow: 0px 1px 3px 1px rgba(0, 0, 0, 0.15);\n",
              "      filter: drop-shadow(0px 1px 2px rgba(0, 0, 0, 0.3));\n",
              "      fill: #FFFFFF;\n",
              "    }\n",
              "  </style>\n",
              "\n",
              "      <script>\n",
              "        const buttonEl =\n",
              "          document.querySelector('#df-81b07772-8e8f-4fcd-9a29-91e8637670ca button.colab-df-convert');\n",
              "        buttonEl.style.display =\n",
              "          google.colab.kernel.accessAllowed ? 'block' : 'none';\n",
              "\n",
              "        async function convertToInteractive(key) {\n",
              "          const element = document.querySelector('#df-81b07772-8e8f-4fcd-9a29-91e8637670ca');\n",
              "          const dataTable =\n",
              "            await google.colab.kernel.invokeFunction('convertToInteractive',\n",
              "                                                     [key], {});\n",
              "          if (!dataTable) return;\n",
              "\n",
              "          const docLinkHtml = 'Like what you see? Visit the ' +\n",
              "            '<a target=\"_blank\" href=https://colab.research.google.com/notebooks/data_table.ipynb>data table notebook</a>'\n",
              "            + ' to learn more about interactive tables.';\n",
              "          element.innerHTML = '';\n",
              "          dataTable['output_type'] = 'display_data';\n",
              "          await google.colab.output.renderOutput(dataTable, element);\n",
              "          const docLink = document.createElement('div');\n",
              "          docLink.innerHTML = docLinkHtml;\n",
              "          element.appendChild(docLink);\n",
              "        }\n",
              "      </script>\n",
              "    </div>\n",
              "  </div>\n",
              "  "
            ]
          },
          "metadata": {},
          "execution_count": 4
        }
      ]
    },
    {
      "cell_type": "code",
      "source": [
        "data.info()"
      ],
      "metadata": {
        "colab": {
          "base_uri": "https://localhost:8080/"
        },
        "id": "B6RuO0xXEFZX",
        "outputId": "bb3661e5-91c0-4dc3-e5b7-990a5af04842"
      },
      "execution_count": 5,
      "outputs": [
        {
          "output_type": "stream",
          "name": "stdout",
          "text": [
            "<class 'pandas.core.frame.DataFrame'>\n",
            "RangeIndex: 4400 entries, 0 to 4399\n",
            "Data columns (total 7 columns):\n",
            " #   Column          Non-Null Count  Dtype \n",
            "---  ------          --------------  ----- \n",
            " 0   index           4400 non-null   int64 \n",
            " 1   movie_id        4400 non-null   int64 \n",
            " 2   movie_name      4400 non-null   object\n",
            " 3   movie_genre     4387 non-null   object\n",
            " 4   movie_overview  4391 non-null   object\n",
            " 5   movie_cast      4400 non-null   object\n",
            " 6   movie_director  4375 non-null   object\n",
            "dtypes: int64(2), object(5)\n",
            "memory usage: 240.8+ KB\n"
          ]
        }
      ]
    },
    {
      "cell_type": "markdown",
      "source": [
        "#Handling null values"
      ],
      "metadata": {
        "id": "8Jrk8kCvpZwi"
      }
    },
    {
      "cell_type": "code",
      "source": [
        "data.isnull().sum()"
      ],
      "metadata": {
        "colab": {
          "base_uri": "https://localhost:8080/"
        },
        "id": "Ni0hu_sCE9Q9",
        "outputId": "04b6f80f-bf17-4eb3-8490-13eac0b74f4f"
      },
      "execution_count": 6,
      "outputs": [
        {
          "output_type": "execute_result",
          "data": {
            "text/plain": [
              "index              0\n",
              "movie_id           0\n",
              "movie_name         0\n",
              "movie_genre       13\n",
              "movie_overview     9\n",
              "movie_cast         0\n",
              "movie_director    25\n",
              "dtype: int64"
            ]
          },
          "metadata": {},
          "execution_count": 6
        }
      ]
    },
    {
      "cell_type": "code",
      "source": [
        "#Retrieving index which has null values\n",
        "np.where(data['movie_genre'].isnull())[0]"
      ],
      "metadata": {
        "colab": {
          "base_uri": "https://localhost:8080/"
        },
        "id": "jdO3_Vfo2cLu",
        "outputId": "951deb7c-9673-4173-a3ba-01071452a07c"
      },
      "execution_count": 7,
      "outputs": [
        {
          "output_type": "execute_result",
          "data": {
            "text/plain": [
              "array([  11,  676,  892, 1369, 1508, 1631, 1686, 1955, 2103, 2483, 3031,\n",
              "       3738, 4040])"
            ]
          },
          "metadata": {},
          "execution_count": 7
        }
      ]
    },
    {
      "cell_type": "code",
      "source": [
        "#retrieving movie_id from index\n",
        "data.loc[11]"
      ],
      "metadata": {
        "colab": {
          "base_uri": "https://localhost:8080/"
        },
        "id": "ImAeh-I52uQG",
        "outputId": "436aa6c3-c2f3-40c6-82f1-5e0e129a4870"
      },
      "execution_count": 8,
      "outputs": [
        {
          "output_type": "execute_result",
          "data": {
            "text/plain": [
              "index                                                            11\n",
              "movie_id                                                     118365\n",
              "movie_name                                   Moses, Prince of Egypt\n",
              "movie_genre                                                     NaN\n",
              "movie_overview    At birth, Moses, a Hebrew baby is abandoned on...\n",
              "movie_cast                                                         \n",
              "movie_director                                  Ryszard Słapczyński\n",
              "Name: 11, dtype: object"
            ]
          },
          "metadata": {},
          "execution_count": 8
        }
      ]
    },
    {
      "cell_type": "markdown",
      "source": [
        "Performed API request for the Movie: \"Moses,Prince of Egypt\".\n",
        "\n",
        "\n",
        "\n"
      ],
      "metadata": {
        "id": "FePO-h0B1XMI"
      }
    },
    {
      "cell_type": "markdown",
      "source": [
        "Movie_genre field was empty in the dictionary itself\n"
      ],
      "metadata": {
        "id": "qmN63Oxn2RSA"
      }
    },
    {
      "cell_type": "code",
      "source": [
        "#Taking a sample movie:Moses,Price of Egypt that has null value for movie_genre\n",
        "import requests\n",
        "API_key='55837420c664ac695063a44342aa40b1'\n",
        "\n",
        "Movie_ID='118365'\n",
        "url=\"https://api.themoviedb.org/3/movie/\"+Movie_ID+\"?api_key=\"+API_key+\"&language=en-US\"\n",
        "response = requests.get(url).json()\n"
      ],
      "metadata": {
        "id": "6xP-iUt1G37r"
      },
      "execution_count": 9,
      "outputs": []
    },
    {
      "cell_type": "code",
      "source": [
        "response['genres']"
      ],
      "metadata": {
        "colab": {
          "base_uri": "https://localhost:8080/"
        },
        "id": "ufFFMueUGkzA",
        "outputId": "33e0e3c4-d3bd-4699-8686-47916bb61976"
      },
      "execution_count": 10,
      "outputs": [
        {
          "output_type": "execute_result",
          "data": {
            "text/plain": [
              "[]"
            ]
          },
          "metadata": {},
          "execution_count": 10
        }
      ]
    },
    {
      "cell_type": "code",
      "source": [
        "\n",
        "np.where(data['movie_overview'].isnull())[0]"
      ],
      "metadata": {
        "colab": {
          "base_uri": "https://localhost:8080/"
        },
        "id": "qFF0rfUXtxy6",
        "outputId": "d8105987-e77e-4e56-f8f1-ec45d724478b"
      },
      "execution_count": 11,
      "outputs": [
        {
          "output_type": "execute_result",
          "data": {
            "text/plain": [
              "array([ 892, 1369, 1987, 2740, 2851, 4344, 4352, 4360, 4385])"
            ]
          },
          "metadata": {},
          "execution_count": 11
        }
      ]
    },
    {
      "cell_type": "code",
      "source": [
        "data.loc[892]"
      ],
      "metadata": {
        "colab": {
          "base_uri": "https://localhost:8080/"
        },
        "id": "g0smuxQ3t5C5",
        "outputId": "e0b7a55f-e0d5-460f-94f8-befa60361a16"
      },
      "execution_count": 12,
      "outputs": [
        {
          "output_type": "execute_result",
          "data": {
            "text/plain": [
              "index                                                            92\n",
              "movie_id                                                     687920\n",
              "movie_name                                       Sexo e a Metrópole\n",
              "movie_genre                                                     NaN\n",
              "movie_overview                                                  NaN\n",
              "movie_cast         Bárbara Paz,Fábio Hilst,Patrícia Coelho,Thays...\n",
              "movie_director                                         Fred Avellar\n",
              "Name: 892, dtype: object"
            ]
          },
          "metadata": {},
          "execution_count": 12
        }
      ]
    },
    {
      "cell_type": "code",
      "source": [
        "#Taking a sample movie:Moses,Price of Egypt that has null value for movie_genre\n",
        "import requests\n",
        "API_key='55837420c664ac695063a44342aa40b1'\n",
        "\n",
        "Movie_ID='687920'\n",
        "url=\"https://api.themoviedb.org/3/movie/\"+Movie_ID+\"?api_key=\"+API_key+\"&language=en-US\"\n",
        "response = requests.get(url).json()\n"
      ],
      "metadata": {
        "id": "q3WCMyajt_A1"
      },
      "execution_count": 13,
      "outputs": []
    },
    {
      "cell_type": "code",
      "source": [
        "response['overview']"
      ],
      "metadata": {
        "colab": {
          "base_uri": "https://localhost:8080/",
          "height": 36
        },
        "id": "9aRYlYUftopO",
        "outputId": "f49d3781-529e-45b2-fe77-0ca7ee0fabbe"
      },
      "execution_count": 14,
      "outputs": [
        {
          "output_type": "execute_result",
          "data": {
            "text/plain": [
              "''"
            ],
            "application/vnd.google.colaboratory.intrinsic+json": {
              "type": "string"
            }
          },
          "metadata": {},
          "execution_count": 14
        }
      ]
    },
    {
      "cell_type": "markdown",
      "source": [
        "Similarly, performed api request for few more movie_ids that had null value. Movie_genre fields were empty."
      ],
      "metadata": {
        "id": "dXp_-YXz3mLL"
      }
    },
    {
      "cell_type": "code",
      "source": [
        "#retrieving movie_id from index\n",
        "data.loc[777]"
      ],
      "metadata": {
        "colab": {
          "base_uri": "https://localhost:8080/"
        },
        "id": "dx8i1T_wr-ew",
        "outputId": "7c61081e-dc20-4ca7-ea76-43bf2940a12b"
      },
      "execution_count": 16,
      "outputs": [
        {
          "output_type": "execute_result",
          "data": {
            "text/plain": [
              "index                                                           177\n",
              "movie_id                                                     693356\n",
              "movie_name        One Piece Special: Open Upon the Great Sea! A ...\n",
              "movie_genre                              Animation,Action,Adventure\n",
              "movie_overview    Bonnie & Max are crew members of Pirate Zap's ...\n",
              "movie_cast                                                         \n",
              "movie_director                                                  NaN\n",
              "Name: 777, dtype: object"
            ]
          },
          "metadata": {},
          "execution_count": 16
        }
      ]
    },
    {
      "cell_type": "markdown",
      "source": [
        "Peformed API request. The movie_director field were empty as above for all the null values."
      ],
      "metadata": {
        "id": "Cvak9i5c4Pgm"
      }
    },
    {
      "cell_type": "markdown",
      "source": [
        "Also the movie_director fields fields were empty"
      ],
      "metadata": {
        "id": "ndQvJAVe-tXq"
      }
    },
    {
      "cell_type": "code",
      "source": [
        "\n",
        "#selecting  features\n",
        "features=['movie_genre','movie_overview','movie_director']"
      ],
      "metadata": {
        "id": "ySb9BehcATWX"
      },
      "execution_count": 20,
      "outputs": []
    },
    {
      "cell_type": "code",
      "source": [
        "for f in features:\n",
        "  data[f] = data[f].fillna('')"
      ],
      "metadata": {
        "id": "rZ8L1ua_Um_x"
      },
      "execution_count": 21,
      "outputs": []
    },
    {
      "cell_type": "code",
      "source": [
        "data.isnull().sum()"
      ],
      "metadata": {
        "id": "FB72lSlFU31T",
        "colab": {
          "base_uri": "https://localhost:8080/"
        },
        "outputId": "00095773-c34d-49b3-cc62-c33323dbe4ab"
      },
      "execution_count": 22,
      "outputs": [
        {
          "output_type": "execute_result",
          "data": {
            "text/plain": [
              "index             0\n",
              "movie_id          0\n",
              "movie_name        0\n",
              "movie_genre       0\n",
              "movie_overview    0\n",
              "movie_cast        0\n",
              "movie_director    0\n",
              "dtype: int64"
            ]
          },
          "metadata": {},
          "execution_count": 22
        }
      ]
    },
    {
      "cell_type": "markdown",
      "source": [
        "#Importing libraries for data cleaning"
      ],
      "metadata": {
        "id": "mnewYsRuzuwC"
      }
    },
    {
      "cell_type": "code",
      "source": [
        "\n",
        "from rake_nltk import Rake\n",
        "import nltk\n",
        "nltk.download('stopwords')\n",
        "nltk.download('punkt')"
      ],
      "metadata": {
        "id": "slWGbcmmzDEl"
      },
      "execution_count": null,
      "outputs": []
    },
    {
      "cell_type": "markdown",
      "source": [
        "#converting movie_overview into key_words"
      ],
      "metadata": {
        "id": "D6EssHk2qQ3S"
      }
    },
    {
      "cell_type": "code",
      "source": [
        "#creating new dataframe\n",
        "new_data=data[['movie_name','movie_genre','movie_overview','movie_cast','movie_director']]"
      ],
      "metadata": {
        "id": "UrKtA3jA0h7b"
      },
      "execution_count": 25,
      "outputs": []
    },
    {
      "cell_type": "code",
      "source": [
        "#Handling movie_overview\n",
        "\n",
        "new_data['key_words']=\"\"\n",
        "\n",
        "for index,row in new_data.iterrows():\n",
        "  overview=row['movie_overview']\n",
        "\n",
        "  r=Rake()\n",
        "  #retrieve keywords from overview data\n",
        "  r.extract_keywords_from_text(overview)\n",
        "  key_words_dict_scores=r.get_word_degrees()\n",
        "  #append only the key to the list\n",
        "  row['key_words']=list(key_words_dict_scores.keys())\n",
        "\n",
        "\n"
      ],
      "metadata": {
        "id": "kHG1K6Owyp_V"
      },
      "execution_count": null,
      "outputs": []
    },
    {
      "cell_type": "code",
      "source": [
        "#Dropping movie_overview column\n",
        "new_data.drop(columns=['movie_overview'],inplace=True)\n"
      ],
      "metadata": {
        "id": "lUnjW40FE-Sb"
      },
      "execution_count": null,
      "outputs": []
    },
    {
      "cell_type": "code",
      "source": [
        "new_data[['key_words']].head()"
      ],
      "metadata": {
        "colab": {
          "base_uri": "https://localhost:8080/",
          "height": 206
        },
        "id": "4VT5EJdBJNd6",
        "outputId": "e901b56b-b4f5-457e-e561-92e9caa593bb"
      },
      "execution_count": 28,
      "outputs": [
        {
          "output_type": "execute_result",
          "data": {
            "text/plain": [
              "                                           key_words\n",
              "0  [familiar, looking, group, teenagers, find, st...\n",
              "1  [kuzco, self, centered, emperor, summons, pach...\n",
              "2  [orphaned, dinosaur, raised, lemurs, joins, ar...\n",
              "3  [inside, snowflake, exists, magical, land, who...\n",
              "4  [animated, retelling, story, bible, book, gene..."
            ],
            "text/html": [
              "\n",
              "  <div id=\"df-9c621827-bed5-453a-bc0c-27e86b2bacea\">\n",
              "    <div class=\"colab-df-container\">\n",
              "      <div>\n",
              "<style scoped>\n",
              "    .dataframe tbody tr th:only-of-type {\n",
              "        vertical-align: middle;\n",
              "    }\n",
              "\n",
              "    .dataframe tbody tr th {\n",
              "        vertical-align: top;\n",
              "    }\n",
              "\n",
              "    .dataframe thead th {\n",
              "        text-align: right;\n",
              "    }\n",
              "</style>\n",
              "<table border=\"1\" class=\"dataframe\">\n",
              "  <thead>\n",
              "    <tr style=\"text-align: right;\">\n",
              "      <th></th>\n",
              "      <th>key_words</th>\n",
              "    </tr>\n",
              "  </thead>\n",
              "  <tbody>\n",
              "    <tr>\n",
              "      <th>0</th>\n",
              "      <td>[familiar, looking, group, teenagers, find, st...</td>\n",
              "    </tr>\n",
              "    <tr>\n",
              "      <th>1</th>\n",
              "      <td>[kuzco, self, centered, emperor, summons, pach...</td>\n",
              "    </tr>\n",
              "    <tr>\n",
              "      <th>2</th>\n",
              "      <td>[orphaned, dinosaur, raised, lemurs, joins, ar...</td>\n",
              "    </tr>\n",
              "    <tr>\n",
              "      <th>3</th>\n",
              "      <td>[inside, snowflake, exists, magical, land, who...</td>\n",
              "    </tr>\n",
              "    <tr>\n",
              "      <th>4</th>\n",
              "      <td>[animated, retelling, story, bible, book, gene...</td>\n",
              "    </tr>\n",
              "  </tbody>\n",
              "</table>\n",
              "</div>\n",
              "      <button class=\"colab-df-convert\" onclick=\"convertToInteractive('df-9c621827-bed5-453a-bc0c-27e86b2bacea')\"\n",
              "              title=\"Convert this dataframe to an interactive table.\"\n",
              "              style=\"display:none;\">\n",
              "        \n",
              "  <svg xmlns=\"http://www.w3.org/2000/svg\" height=\"24px\"viewBox=\"0 0 24 24\"\n",
              "       width=\"24px\">\n",
              "    <path d=\"M0 0h24v24H0V0z\" fill=\"none\"/>\n",
              "    <path d=\"M18.56 5.44l.94 2.06.94-2.06 2.06-.94-2.06-.94-.94-2.06-.94 2.06-2.06.94zm-11 1L8.5 8.5l.94-2.06 2.06-.94-2.06-.94L8.5 2.5l-.94 2.06-2.06.94zm10 10l.94 2.06.94-2.06 2.06-.94-2.06-.94-.94-2.06-.94 2.06-2.06.94z\"/><path d=\"M17.41 7.96l-1.37-1.37c-.4-.4-.92-.59-1.43-.59-.52 0-1.04.2-1.43.59L10.3 9.45l-7.72 7.72c-.78.78-.78 2.05 0 2.83L4 21.41c.39.39.9.59 1.41.59.51 0 1.02-.2 1.41-.59l7.78-7.78 2.81-2.81c.8-.78.8-2.07 0-2.86zM5.41 20L4 18.59l7.72-7.72 1.47 1.35L5.41 20z\"/>\n",
              "  </svg>\n",
              "      </button>\n",
              "      \n",
              "  <style>\n",
              "    .colab-df-container {\n",
              "      display:flex;\n",
              "      flex-wrap:wrap;\n",
              "      gap: 12px;\n",
              "    }\n",
              "\n",
              "    .colab-df-convert {\n",
              "      background-color: #E8F0FE;\n",
              "      border: none;\n",
              "      border-radius: 50%;\n",
              "      cursor: pointer;\n",
              "      display: none;\n",
              "      fill: #1967D2;\n",
              "      height: 32px;\n",
              "      padding: 0 0 0 0;\n",
              "      width: 32px;\n",
              "    }\n",
              "\n",
              "    .colab-df-convert:hover {\n",
              "      background-color: #E2EBFA;\n",
              "      box-shadow: 0px 1px 2px rgba(60, 64, 67, 0.3), 0px 1px 3px 1px rgba(60, 64, 67, 0.15);\n",
              "      fill: #174EA6;\n",
              "    }\n",
              "\n",
              "    [theme=dark] .colab-df-convert {\n",
              "      background-color: #3B4455;\n",
              "      fill: #D2E3FC;\n",
              "    }\n",
              "\n",
              "    [theme=dark] .colab-df-convert:hover {\n",
              "      background-color: #434B5C;\n",
              "      box-shadow: 0px 1px 3px 1px rgba(0, 0, 0, 0.15);\n",
              "      filter: drop-shadow(0px 1px 2px rgba(0, 0, 0, 0.3));\n",
              "      fill: #FFFFFF;\n",
              "    }\n",
              "  </style>\n",
              "\n",
              "      <script>\n",
              "        const buttonEl =\n",
              "          document.querySelector('#df-9c621827-bed5-453a-bc0c-27e86b2bacea button.colab-df-convert');\n",
              "        buttonEl.style.display =\n",
              "          google.colab.kernel.accessAllowed ? 'block' : 'none';\n",
              "\n",
              "        async function convertToInteractive(key) {\n",
              "          const element = document.querySelector('#df-9c621827-bed5-453a-bc0c-27e86b2bacea');\n",
              "          const dataTable =\n",
              "            await google.colab.kernel.invokeFunction('convertToInteractive',\n",
              "                                                     [key], {});\n",
              "          if (!dataTable) return;\n",
              "\n",
              "          const docLinkHtml = 'Like what you see? Visit the ' +\n",
              "            '<a target=\"_blank\" href=https://colab.research.google.com/notebooks/data_table.ipynb>data table notebook</a>'\n",
              "            + ' to learn more about interactive tables.';\n",
              "          element.innerHTML = '';\n",
              "          dataTable['output_type'] = 'display_data';\n",
              "          await google.colab.output.renderOutput(dataTable, element);\n",
              "          const docLink = document.createElement('div');\n",
              "          docLink.innerHTML = docLinkHtml;\n",
              "          element.appendChild(docLink);\n",
              "        }\n",
              "      </script>\n",
              "    </div>\n",
              "  </div>\n",
              "  "
            ]
          },
          "metadata": {},
          "execution_count": 28
        }
      ]
    },
    {
      "cell_type": "markdown",
      "source": [
        "#Handling movie_cast and director"
      ],
      "metadata": {
        "id": "MigdyjJvrDQh"
      }
    },
    {
      "cell_type": "code",
      "source": [
        "new_data[['movie_cast','movie_director']].head()"
      ],
      "metadata": {
        "colab": {
          "base_uri": "https://localhost:8080/",
          "height": 206
        },
        "id": "UlMerxJrMR7I",
        "outputId": "b8539afb-1cc3-40c6-d9c7-ca4ede9fb39e"
      },
      "execution_count": 30,
      "outputs": [
        {
          "output_type": "execute_result",
          "data": {
            "text/plain": [
              "                                          movie_cast       movie_director\n",
              "0   Anna Faris,Jon Abrahams,Marlon Wayans,Shawn W...  Keenen Ivory Wayans\n",
              "1   David Spade,John Goodman,Eartha Kitt,Patrick ...          Mark Dindal\n",
              "2   D. B. Sweeney,Alfre Woodard,Ossie Davis,Max C...         Ralph Zondag\n",
              "3   Jim Carrey,Taylor Momsen,Jeffrey Tambor,Chris...           Ron Howard\n",
              "4   Ben Affleck,Mark Hamill,Richard Herd,Maureen ...           Rob LaDuca"
            ],
            "text/html": [
              "\n",
              "  <div id=\"df-908f6a49-fc7b-437b-a8ca-611a2770ce96\">\n",
              "    <div class=\"colab-df-container\">\n",
              "      <div>\n",
              "<style scoped>\n",
              "    .dataframe tbody tr th:only-of-type {\n",
              "        vertical-align: middle;\n",
              "    }\n",
              "\n",
              "    .dataframe tbody tr th {\n",
              "        vertical-align: top;\n",
              "    }\n",
              "\n",
              "    .dataframe thead th {\n",
              "        text-align: right;\n",
              "    }\n",
              "</style>\n",
              "<table border=\"1\" class=\"dataframe\">\n",
              "  <thead>\n",
              "    <tr style=\"text-align: right;\">\n",
              "      <th></th>\n",
              "      <th>movie_cast</th>\n",
              "      <th>movie_director</th>\n",
              "    </tr>\n",
              "  </thead>\n",
              "  <tbody>\n",
              "    <tr>\n",
              "      <th>0</th>\n",
              "      <td>Anna Faris,Jon Abrahams,Marlon Wayans,Shawn W...</td>\n",
              "      <td>Keenen Ivory Wayans</td>\n",
              "    </tr>\n",
              "    <tr>\n",
              "      <th>1</th>\n",
              "      <td>David Spade,John Goodman,Eartha Kitt,Patrick ...</td>\n",
              "      <td>Mark Dindal</td>\n",
              "    </tr>\n",
              "    <tr>\n",
              "      <th>2</th>\n",
              "      <td>D. B. Sweeney,Alfre Woodard,Ossie Davis,Max C...</td>\n",
              "      <td>Ralph Zondag</td>\n",
              "    </tr>\n",
              "    <tr>\n",
              "      <th>3</th>\n",
              "      <td>Jim Carrey,Taylor Momsen,Jeffrey Tambor,Chris...</td>\n",
              "      <td>Ron Howard</td>\n",
              "    </tr>\n",
              "    <tr>\n",
              "      <th>4</th>\n",
              "      <td>Ben Affleck,Mark Hamill,Richard Herd,Maureen ...</td>\n",
              "      <td>Rob LaDuca</td>\n",
              "    </tr>\n",
              "  </tbody>\n",
              "</table>\n",
              "</div>\n",
              "      <button class=\"colab-df-convert\" onclick=\"convertToInteractive('df-908f6a49-fc7b-437b-a8ca-611a2770ce96')\"\n",
              "              title=\"Convert this dataframe to an interactive table.\"\n",
              "              style=\"display:none;\">\n",
              "        \n",
              "  <svg xmlns=\"http://www.w3.org/2000/svg\" height=\"24px\"viewBox=\"0 0 24 24\"\n",
              "       width=\"24px\">\n",
              "    <path d=\"M0 0h24v24H0V0z\" fill=\"none\"/>\n",
              "    <path d=\"M18.56 5.44l.94 2.06.94-2.06 2.06-.94-2.06-.94-.94-2.06-.94 2.06-2.06.94zm-11 1L8.5 8.5l.94-2.06 2.06-.94-2.06-.94L8.5 2.5l-.94 2.06-2.06.94zm10 10l.94 2.06.94-2.06 2.06-.94-2.06-.94-.94-2.06-.94 2.06-2.06.94z\"/><path d=\"M17.41 7.96l-1.37-1.37c-.4-.4-.92-.59-1.43-.59-.52 0-1.04.2-1.43.59L10.3 9.45l-7.72 7.72c-.78.78-.78 2.05 0 2.83L4 21.41c.39.39.9.59 1.41.59.51 0 1.02-.2 1.41-.59l7.78-7.78 2.81-2.81c.8-.78.8-2.07 0-2.86zM5.41 20L4 18.59l7.72-7.72 1.47 1.35L5.41 20z\"/>\n",
              "  </svg>\n",
              "      </button>\n",
              "      \n",
              "  <style>\n",
              "    .colab-df-container {\n",
              "      display:flex;\n",
              "      flex-wrap:wrap;\n",
              "      gap: 12px;\n",
              "    }\n",
              "\n",
              "    .colab-df-convert {\n",
              "      background-color: #E8F0FE;\n",
              "      border: none;\n",
              "      border-radius: 50%;\n",
              "      cursor: pointer;\n",
              "      display: none;\n",
              "      fill: #1967D2;\n",
              "      height: 32px;\n",
              "      padding: 0 0 0 0;\n",
              "      width: 32px;\n",
              "    }\n",
              "\n",
              "    .colab-df-convert:hover {\n",
              "      background-color: #E2EBFA;\n",
              "      box-shadow: 0px 1px 2px rgba(60, 64, 67, 0.3), 0px 1px 3px 1px rgba(60, 64, 67, 0.15);\n",
              "      fill: #174EA6;\n",
              "    }\n",
              "\n",
              "    [theme=dark] .colab-df-convert {\n",
              "      background-color: #3B4455;\n",
              "      fill: #D2E3FC;\n",
              "    }\n",
              "\n",
              "    [theme=dark] .colab-df-convert:hover {\n",
              "      background-color: #434B5C;\n",
              "      box-shadow: 0px 1px 3px 1px rgba(0, 0, 0, 0.15);\n",
              "      filter: drop-shadow(0px 1px 2px rgba(0, 0, 0, 0.3));\n",
              "      fill: #FFFFFF;\n",
              "    }\n",
              "  </style>\n",
              "\n",
              "      <script>\n",
              "        const buttonEl =\n",
              "          document.querySelector('#df-908f6a49-fc7b-437b-a8ca-611a2770ce96 button.colab-df-convert');\n",
              "        buttonEl.style.display =\n",
              "          google.colab.kernel.accessAllowed ? 'block' : 'none';\n",
              "\n",
              "        async function convertToInteractive(key) {\n",
              "          const element = document.querySelector('#df-908f6a49-fc7b-437b-a8ca-611a2770ce96');\n",
              "          const dataTable =\n",
              "            await google.colab.kernel.invokeFunction('convertToInteractive',\n",
              "                                                     [key], {});\n",
              "          if (!dataTable) return;\n",
              "\n",
              "          const docLinkHtml = 'Like what you see? Visit the ' +\n",
              "            '<a target=\"_blank\" href=https://colab.research.google.com/notebooks/data_table.ipynb>data table notebook</a>'\n",
              "            + ' to learn more about interactive tables.';\n",
              "          element.innerHTML = '';\n",
              "          dataTable['output_type'] = 'display_data';\n",
              "          await google.colab.output.renderOutput(dataTable, element);\n",
              "          const docLink = document.createElement('div');\n",
              "          docLink.innerHTML = docLinkHtml;\n",
              "          element.appendChild(docLink);\n",
              "        }\n",
              "      </script>\n",
              "    </div>\n",
              "  </div>\n",
              "  "
            ]
          },
          "metadata": {},
          "execution_count": 30
        }
      ]
    },
    {
      "cell_type": "markdown",
      "source": [
        "Merging all first and last names in one unique word.  "
      ],
      "metadata": {
        "id": "exHazd2cfJYv"
      }
    },
    {
      "cell_type": "markdown",
      "source": [
        "For example, **movie a** director is **Ben Affleck** and **movie B**  main actor is **Ben Kingsley** the model will detect a similarity because of their first name. We need to avoid that"
      ],
      "metadata": {
        "id": "V8-fztXefWKj"
      }
    },
    {
      "cell_type": "code",
      "source": [
        "#At first, reemoving whitespaces between first and last name\n",
        "#Then, removing commas between names\n",
        "\n",
        "new_data['movie_cast']=new_data['movie_cast'].apply(lambda x:x.replace(\" \",\"\")).apply(lambda x:x.replace(\",\",\" \"))"
      ],
      "metadata": {
        "id": "bRYr-kAbJ2_Y"
      },
      "execution_count": null,
      "outputs": []
    },
    {
      "cell_type": "code",
      "source": [
        "#Removing whitesapces between first and last name of movie_directors\n",
        "\n",
        "new_data['movie_director']=new_data['movie_director'].apply(lambda x:x.replace(\" \",\"\"))"
      ],
      "metadata": {
        "id": "id4UuaUnKmiY"
      },
      "execution_count": null,
      "outputs": []
    },
    {
      "cell_type": "code",
      "source": [
        "new_data[['movie_cast','movie_director']].head()"
      ],
      "metadata": {
        "colab": {
          "base_uri": "https://localhost:8080/",
          "height": 206
        },
        "id": "ifxQ6ePOKotR",
        "outputId": "d0632316-6641-4fe2-c108-fba6927e38b8"
      },
      "execution_count": 33,
      "outputs": [
        {
          "output_type": "execute_result",
          "data": {
            "text/plain": [
              "                                          movie_cast     movie_director\n",
              "0  AnnaFaris JonAbrahams MarlonWayans ShawnWayans...  KeenenIvoryWayans\n",
              "1  DavidSpade JohnGoodman EarthaKitt PatrickWarbu...         MarkDindal\n",
              "2  D.B.Sweeney AlfreWoodard OssieDavis MaxCasella...        RalphZondag\n",
              "3  JimCarrey TaylorMomsen JeffreyTambor Christine...          RonHoward\n",
              "4  BenAffleck MarkHamill RichardHerd MaureenMcGov...          RobLaDuca"
            ],
            "text/html": [
              "\n",
              "  <div id=\"df-1bfcb2a4-5379-4d65-aa05-f04330291bb0\">\n",
              "    <div class=\"colab-df-container\">\n",
              "      <div>\n",
              "<style scoped>\n",
              "    .dataframe tbody tr th:only-of-type {\n",
              "        vertical-align: middle;\n",
              "    }\n",
              "\n",
              "    .dataframe tbody tr th {\n",
              "        vertical-align: top;\n",
              "    }\n",
              "\n",
              "    .dataframe thead th {\n",
              "        text-align: right;\n",
              "    }\n",
              "</style>\n",
              "<table border=\"1\" class=\"dataframe\">\n",
              "  <thead>\n",
              "    <tr style=\"text-align: right;\">\n",
              "      <th></th>\n",
              "      <th>movie_cast</th>\n",
              "      <th>movie_director</th>\n",
              "    </tr>\n",
              "  </thead>\n",
              "  <tbody>\n",
              "    <tr>\n",
              "      <th>0</th>\n",
              "      <td>AnnaFaris JonAbrahams MarlonWayans ShawnWayans...</td>\n",
              "      <td>KeenenIvoryWayans</td>\n",
              "    </tr>\n",
              "    <tr>\n",
              "      <th>1</th>\n",
              "      <td>DavidSpade JohnGoodman EarthaKitt PatrickWarbu...</td>\n",
              "      <td>MarkDindal</td>\n",
              "    </tr>\n",
              "    <tr>\n",
              "      <th>2</th>\n",
              "      <td>D.B.Sweeney AlfreWoodard OssieDavis MaxCasella...</td>\n",
              "      <td>RalphZondag</td>\n",
              "    </tr>\n",
              "    <tr>\n",
              "      <th>3</th>\n",
              "      <td>JimCarrey TaylorMomsen JeffreyTambor Christine...</td>\n",
              "      <td>RonHoward</td>\n",
              "    </tr>\n",
              "    <tr>\n",
              "      <th>4</th>\n",
              "      <td>BenAffleck MarkHamill RichardHerd MaureenMcGov...</td>\n",
              "      <td>RobLaDuca</td>\n",
              "    </tr>\n",
              "  </tbody>\n",
              "</table>\n",
              "</div>\n",
              "      <button class=\"colab-df-convert\" onclick=\"convertToInteractive('df-1bfcb2a4-5379-4d65-aa05-f04330291bb0')\"\n",
              "              title=\"Convert this dataframe to an interactive table.\"\n",
              "              style=\"display:none;\">\n",
              "        \n",
              "  <svg xmlns=\"http://www.w3.org/2000/svg\" height=\"24px\"viewBox=\"0 0 24 24\"\n",
              "       width=\"24px\">\n",
              "    <path d=\"M0 0h24v24H0V0z\" fill=\"none\"/>\n",
              "    <path d=\"M18.56 5.44l.94 2.06.94-2.06 2.06-.94-2.06-.94-.94-2.06-.94 2.06-2.06.94zm-11 1L8.5 8.5l.94-2.06 2.06-.94-2.06-.94L8.5 2.5l-.94 2.06-2.06.94zm10 10l.94 2.06.94-2.06 2.06-.94-2.06-.94-.94-2.06-.94 2.06-2.06.94z\"/><path d=\"M17.41 7.96l-1.37-1.37c-.4-.4-.92-.59-1.43-.59-.52 0-1.04.2-1.43.59L10.3 9.45l-7.72 7.72c-.78.78-.78 2.05 0 2.83L4 21.41c.39.39.9.59 1.41.59.51 0 1.02-.2 1.41-.59l7.78-7.78 2.81-2.81c.8-.78.8-2.07 0-2.86zM5.41 20L4 18.59l7.72-7.72 1.47 1.35L5.41 20z\"/>\n",
              "  </svg>\n",
              "      </button>\n",
              "      \n",
              "  <style>\n",
              "    .colab-df-container {\n",
              "      display:flex;\n",
              "      flex-wrap:wrap;\n",
              "      gap: 12px;\n",
              "    }\n",
              "\n",
              "    .colab-df-convert {\n",
              "      background-color: #E8F0FE;\n",
              "      border: none;\n",
              "      border-radius: 50%;\n",
              "      cursor: pointer;\n",
              "      display: none;\n",
              "      fill: #1967D2;\n",
              "      height: 32px;\n",
              "      padding: 0 0 0 0;\n",
              "      width: 32px;\n",
              "    }\n",
              "\n",
              "    .colab-df-convert:hover {\n",
              "      background-color: #E2EBFA;\n",
              "      box-shadow: 0px 1px 2px rgba(60, 64, 67, 0.3), 0px 1px 3px 1px rgba(60, 64, 67, 0.15);\n",
              "      fill: #174EA6;\n",
              "    }\n",
              "\n",
              "    [theme=dark] .colab-df-convert {\n",
              "      background-color: #3B4455;\n",
              "      fill: #D2E3FC;\n",
              "    }\n",
              "\n",
              "    [theme=dark] .colab-df-convert:hover {\n",
              "      background-color: #434B5C;\n",
              "      box-shadow: 0px 1px 3px 1px rgba(0, 0, 0, 0.15);\n",
              "      filter: drop-shadow(0px 1px 2px rgba(0, 0, 0, 0.3));\n",
              "      fill: #FFFFFF;\n",
              "    }\n",
              "  </style>\n",
              "\n",
              "      <script>\n",
              "        const buttonEl =\n",
              "          document.querySelector('#df-1bfcb2a4-5379-4d65-aa05-f04330291bb0 button.colab-df-convert');\n",
              "        buttonEl.style.display =\n",
              "          google.colab.kernel.accessAllowed ? 'block' : 'none';\n",
              "\n",
              "        async function convertToInteractive(key) {\n",
              "          const element = document.querySelector('#df-1bfcb2a4-5379-4d65-aa05-f04330291bb0');\n",
              "          const dataTable =\n",
              "            await google.colab.kernel.invokeFunction('convertToInteractive',\n",
              "                                                     [key], {});\n",
              "          if (!dataTable) return;\n",
              "\n",
              "          const docLinkHtml = 'Like what you see? Visit the ' +\n",
              "            '<a target=\"_blank\" href=https://colab.research.google.com/notebooks/data_table.ipynb>data table notebook</a>'\n",
              "            + ' to learn more about interactive tables.';\n",
              "          element.innerHTML = '';\n",
              "          dataTable['output_type'] = 'display_data';\n",
              "          await google.colab.output.renderOutput(dataTable, element);\n",
              "          const docLink = document.createElement('div');\n",
              "          docLink.innerHTML = docLinkHtml;\n",
              "          element.appendChild(docLink);\n",
              "        }\n",
              "      </script>\n",
              "    </div>\n",
              "  </div>\n",
              "  "
            ]
          },
          "metadata": {},
          "execution_count": 33
        }
      ]
    },
    {
      "cell_type": "markdown",
      "source": [
        "#Handling movie_genre"
      ],
      "metadata": {
        "id": "IyJyHp1kFmtI"
      }
    },
    {
      "cell_type": "code",
      "source": [
        "new_data['movie_genre']=new_data['movie_genre'].apply(lambda x:x.replace(\",\",\" \"))\n"
      ],
      "metadata": {
        "id": "ZKscBr5hu334"
      },
      "execution_count": null,
      "outputs": []
    },
    {
      "cell_type": "code",
      "source": [
        "#convert \"science fiction\" to \"sciencefiction\" in movie_genre field\n",
        "for i in new_data.index:\n",
        "  if \"science fiction\" in new_data['movie_genre'][i]:\n",
        "    #get the index value of the character 's' in 'science'\n",
        "    a=new_data['movie_genre'][i].find(\"science fiction\")\n",
        "    #removing whitespace between the word science and fiction\n",
        "    new_data['movie_genre'][i]=new_data['movie_genre'][i][:a+7]+new_data['movie_genre'][i][a+8:]\n",
        " \n",
        "\n",
        "    \n",
        "    "
      ],
      "metadata": {
        "id": "WlNmp8uR_-SJ"
      },
      "execution_count": 35,
      "outputs": []
    },
    {
      "cell_type": "markdown",
      "source": [
        "#Handling keywords\n"
      ],
      "metadata": {
        "id": "ZRvJSBzewAnc"
      }
    },
    {
      "cell_type": "code",
      "source": [
        "#Converting list to string and removing commas between the key words\n",
        "new_data['key_words']=new_data['key_words'].transform(lambda x:\",\".join(map(str,x))).apply(lambda x:x.replace(\",\",\" \"))"
      ],
      "metadata": {
        "id": "HCQSTc8HPmBA"
      },
      "execution_count": null,
      "outputs": []
    },
    {
      "cell_type": "code",
      "source": [
        "new_data[['key_words']].head()"
      ],
      "metadata": {
        "colab": {
          "base_uri": "https://localhost:8080/",
          "height": 206
        },
        "id": "vmGBFki1IVof",
        "outputId": "07c68ae1-9547-40fb-9779-7094a65c61de"
      },
      "execution_count": 37,
      "outputs": [
        {
          "output_type": "execute_result",
          "data": {
            "text/plain": [
              "                                           key_words\n",
              "0  familiar looking group teenagers find stalked ...\n",
              "1  kuzco self centered emperor summons pacha vill...\n",
              "2  orphaned dinosaur raised lemurs joins arduous ...\n",
              "3  inside snowflake exists magical land whoville ...\n",
              "4  animated retelling story bible book genesis jo..."
            ],
            "text/html": [
              "\n",
              "  <div id=\"df-2cbf0bb8-602b-4579-aa8a-36ab01b49bce\">\n",
              "    <div class=\"colab-df-container\">\n",
              "      <div>\n",
              "<style scoped>\n",
              "    .dataframe tbody tr th:only-of-type {\n",
              "        vertical-align: middle;\n",
              "    }\n",
              "\n",
              "    .dataframe tbody tr th {\n",
              "        vertical-align: top;\n",
              "    }\n",
              "\n",
              "    .dataframe thead th {\n",
              "        text-align: right;\n",
              "    }\n",
              "</style>\n",
              "<table border=\"1\" class=\"dataframe\">\n",
              "  <thead>\n",
              "    <tr style=\"text-align: right;\">\n",
              "      <th></th>\n",
              "      <th>key_words</th>\n",
              "    </tr>\n",
              "  </thead>\n",
              "  <tbody>\n",
              "    <tr>\n",
              "      <th>0</th>\n",
              "      <td>familiar looking group teenagers find stalked ...</td>\n",
              "    </tr>\n",
              "    <tr>\n",
              "      <th>1</th>\n",
              "      <td>kuzco self centered emperor summons pacha vill...</td>\n",
              "    </tr>\n",
              "    <tr>\n",
              "      <th>2</th>\n",
              "      <td>orphaned dinosaur raised lemurs joins arduous ...</td>\n",
              "    </tr>\n",
              "    <tr>\n",
              "      <th>3</th>\n",
              "      <td>inside snowflake exists magical land whoville ...</td>\n",
              "    </tr>\n",
              "    <tr>\n",
              "      <th>4</th>\n",
              "      <td>animated retelling story bible book genesis jo...</td>\n",
              "    </tr>\n",
              "  </tbody>\n",
              "</table>\n",
              "</div>\n",
              "      <button class=\"colab-df-convert\" onclick=\"convertToInteractive('df-2cbf0bb8-602b-4579-aa8a-36ab01b49bce')\"\n",
              "              title=\"Convert this dataframe to an interactive table.\"\n",
              "              style=\"display:none;\">\n",
              "        \n",
              "  <svg xmlns=\"http://www.w3.org/2000/svg\" height=\"24px\"viewBox=\"0 0 24 24\"\n",
              "       width=\"24px\">\n",
              "    <path d=\"M0 0h24v24H0V0z\" fill=\"none\"/>\n",
              "    <path d=\"M18.56 5.44l.94 2.06.94-2.06 2.06-.94-2.06-.94-.94-2.06-.94 2.06-2.06.94zm-11 1L8.5 8.5l.94-2.06 2.06-.94-2.06-.94L8.5 2.5l-.94 2.06-2.06.94zm10 10l.94 2.06.94-2.06 2.06-.94-2.06-.94-.94-2.06-.94 2.06-2.06.94z\"/><path d=\"M17.41 7.96l-1.37-1.37c-.4-.4-.92-.59-1.43-.59-.52 0-1.04.2-1.43.59L10.3 9.45l-7.72 7.72c-.78.78-.78 2.05 0 2.83L4 21.41c.39.39.9.59 1.41.59.51 0 1.02-.2 1.41-.59l7.78-7.78 2.81-2.81c.8-.78.8-2.07 0-2.86zM5.41 20L4 18.59l7.72-7.72 1.47 1.35L5.41 20z\"/>\n",
              "  </svg>\n",
              "      </button>\n",
              "      \n",
              "  <style>\n",
              "    .colab-df-container {\n",
              "      display:flex;\n",
              "      flex-wrap:wrap;\n",
              "      gap: 12px;\n",
              "    }\n",
              "\n",
              "    .colab-df-convert {\n",
              "      background-color: #E8F0FE;\n",
              "      border: none;\n",
              "      border-radius: 50%;\n",
              "      cursor: pointer;\n",
              "      display: none;\n",
              "      fill: #1967D2;\n",
              "      height: 32px;\n",
              "      padding: 0 0 0 0;\n",
              "      width: 32px;\n",
              "    }\n",
              "\n",
              "    .colab-df-convert:hover {\n",
              "      background-color: #E2EBFA;\n",
              "      box-shadow: 0px 1px 2px rgba(60, 64, 67, 0.3), 0px 1px 3px 1px rgba(60, 64, 67, 0.15);\n",
              "      fill: #174EA6;\n",
              "    }\n",
              "\n",
              "    [theme=dark] .colab-df-convert {\n",
              "      background-color: #3B4455;\n",
              "      fill: #D2E3FC;\n",
              "    }\n",
              "\n",
              "    [theme=dark] .colab-df-convert:hover {\n",
              "      background-color: #434B5C;\n",
              "      box-shadow: 0px 1px 3px 1px rgba(0, 0, 0, 0.15);\n",
              "      filter: drop-shadow(0px 1px 2px rgba(0, 0, 0, 0.3));\n",
              "      fill: #FFFFFF;\n",
              "    }\n",
              "  </style>\n",
              "\n",
              "      <script>\n",
              "        const buttonEl =\n",
              "          document.querySelector('#df-2cbf0bb8-602b-4579-aa8a-36ab01b49bce button.colab-df-convert');\n",
              "        buttonEl.style.display =\n",
              "          google.colab.kernel.accessAllowed ? 'block' : 'none';\n",
              "\n",
              "        async function convertToInteractive(key) {\n",
              "          const element = document.querySelector('#df-2cbf0bb8-602b-4579-aa8a-36ab01b49bce');\n",
              "          const dataTable =\n",
              "            await google.colab.kernel.invokeFunction('convertToInteractive',\n",
              "                                                     [key], {});\n",
              "          if (!dataTable) return;\n",
              "\n",
              "          const docLinkHtml = 'Like what you see? Visit the ' +\n",
              "            '<a target=\"_blank\" href=https://colab.research.google.com/notebooks/data_table.ipynb>data table notebook</a>'\n",
              "            + ' to learn more about interactive tables.';\n",
              "          element.innerHTML = '';\n",
              "          dataTable['output_type'] = 'display_data';\n",
              "          await google.colab.output.renderOutput(dataTable, element);\n",
              "          const docLink = document.createElement('div');\n",
              "          docLink.innerHTML = docLinkHtml;\n",
              "          element.appendChild(docLink);\n",
              "        }\n",
              "      </script>\n",
              "    </div>\n",
              "  </div>\n",
              "  "
            ]
          },
          "metadata": {},
          "execution_count": 37
        }
      ]
    },
    {
      "cell_type": "markdown",
      "source": [
        "#Model Creation"
      ],
      "metadata": {
        "id": "GWwBNbJjcy22"
      }
    },
    {
      "cell_type": "code",
      "source": [
        "def create_soup(x):\n",
        "    return x['key_words'] + ' ' +x['movie_cast']+ ' ' + x['movie_director'] + ' ' +x['movie_genre']"
      ],
      "metadata": {
        "id": "Ze6wbxPE1i1c"
      },
      "execution_count": 38,
      "outputs": []
    },
    {
      "cell_type": "code",
      "source": [
        "new_data['soup'] = new_data.apply(create_soup, axis=1)\n"
      ],
      "metadata": {
        "id": "KIlFQKzo13ZL"
      },
      "execution_count": null,
      "outputs": []
    },
    {
      "cell_type": "markdown",
      "source": [
        "At first, the data was transformed into the vector array using **CountVectorizer** and found out that there are similar words\n",
        "for example:\n",
        "['abilities',\n",
        " 'ability]\n",
        "\n",
        "[accident',\n",
        " 'accidental',\n",
        " 'accidentally']"
      ],
      "metadata": {
        "id": "xJwpYgn-ZDAU"
      }
    },
    {
      "cell_type": "markdown",
      "source": [
        "We need to use **Stemming**, in order to convert them to a single word or the root word"
      ],
      "metadata": {
        "id": "EC5k9KPNZZ4w"
      }
    },
    {
      "cell_type": "code",
      "source": [
        "from nltk.stem.porter import PorterStemmer\n",
        "ps=PorterStemmer()"
      ],
      "metadata": {
        "id": "5WCvKkLPZNFi"
      },
      "execution_count": 40,
      "outputs": []
    },
    {
      "cell_type": "code",
      "source": [
        "def stem(text):\n",
        "  y=[]\n",
        "  for i in text.split():\n",
        "    y.append(ps.stem(i))\n",
        "  return \" \".join(y)"
      ],
      "metadata": {
        "id": "6h2JyRN_aS1t"
      },
      "execution_count": 41,
      "outputs": []
    },
    {
      "cell_type": "code",
      "source": [
        "new_data['soup'][0]"
      ],
      "metadata": {
        "colab": {
          "base_uri": "https://localhost:8080/",
          "height": 146
        },
        "id": "R4UkoHP8avLy",
        "outputId": "3d2174be-c7b2-4bf4-ca4f-88a70688e851"
      },
      "execution_count": 42,
      "outputs": [
        {
          "output_type": "execute_result",
          "data": {
            "text/plain": [
              "'familiar looking group teenagers find stalked vaguely recognizable masked killer victims begin pile laughs none favorite scary movies escape razor sharp satire outrageously funny parody AnnaFaris JonAbrahams MarlonWayans ShawnWayans ReginaHall ShannonElizabeth CheriOteri LochlynMunro DaveSheridan KurtFuller CarmenElectra RickDucommun KeenenIvoryWayans MarissaJaretWinokur DanJoffre LloydBerry DavidL.Lander KellyCoffieldPark TrevorRoberts JayneTrcka KarenKruper TanjaReichert KendallSaunders GlynisDavies JessicaVanderVeen JenniferAnnLee FrankB.Moore GiacomoBaessato KyleGraham LeanneSantos MarkMcConchie MatthewPaxman ChrisRobson SusanShears PeterBryant AndreaNemeth CraigBruhnanski RegTupper BabeDolan DavidNeale NelsLennarson NicolaCrosbie IanBliss ChrisWilding PeterHanlon TedCole DoreenRamus LeeR.Mayes MarkHoeppner JimShepard DexterBell TedGill AndrewKeilty JamesVanDerBeek JohnnyHawkes KevinHansen ArtHives BruceMahler ZahfParoo AubreyTennant KeenenIvoryWayans Comedy'"
            ],
            "application/vnd.google.colaboratory.intrinsic+json": {
              "type": "string"
            }
          },
          "metadata": {},
          "execution_count": 42
        }
      ]
    },
    {
      "cell_type": "code",
      "source": [
        "stem('familiar looking group teenagers find stalked vaguely recognizable masked killer victims begin pile laughs none favorite scary movies escape razor sharp satire outrageously funny parody AnnaFaris JonAbrahams MarlonWayans ShawnWayans ReginaHall ShannonElizabeth CheriOteri LochlynMunro DaveSheridan KurtFuller CarmenElectra RickDucommun KeenenIvoryWayans MarissaJaretWinokur DanJoffre LloydBerry DavidL.Lander KellyCoffieldPark TrevorRoberts JayneTrcka KarenKruper TanjaReichert KendallSaunders GlynisDavies JessicaVanderVeen JenniferAnnLee FrankB.Moore GiacomoBaessato KyleGraham LeanneSantos MarkMcConchie MatthewPaxman ChrisRobson SusanShears PeterBryant AndreaNemeth CraigBruhnanski RegTupper BabeDolan DavidNeale NelsLennarson NicolaCrosbie IanBliss ChrisWilding PeterHanlon TedCole DoreenRamus LeeR.Mayes MarkHoeppner JimShepard DexterBell TedGill AndrewKeilty JamesVanDerBeek JohnnyHawkes KevinHansen ArtHives BruceMahler ZahfParoo AubreyTennant KeenenIvoryWayans Comedy')"
      ],
      "metadata": {
        "colab": {
          "base_uri": "https://localhost:8080/",
          "height": 146
        },
        "id": "S95lVjNNa7nK",
        "outputId": "4753fdfa-dfd1-47e0-bc78-368b300168f5"
      },
      "execution_count": 43,
      "outputs": [
        {
          "output_type": "execute_result",
          "data": {
            "text/plain": [
              "'familiar look group teenag find stalk vagu recogniz mask killer victim begin pile laugh none favorit scari movi escap razor sharp satir outrag funni parodi annafari jonabraham marlonwayan shawnwayan reginahal shannonelizabeth cherioteri lochlynmunro davesheridan kurtful carmenelectra rickducommun keenenivorywayan marissajaretwinokur danjoffr lloydberri davidl.land kellycoffieldpark trevorrobert jaynetrcka karenkrup tanjareichert kendallsaund glynisdavi jessicavanderveen jenniferannle frankb.moor giacomobaessato kylegraham leannesanto markmcconchi matthewpaxman chrisrobson susanshear peterbry andreanemeth craigbruhnanski regtupp babedolan davidneal nelslennarson nicolacrosbi ianbliss chriswild peterhanlon tedcol doreenramu leer.may markhoeppn jimshepard dexterbel tedgil andrewkeilti jamesvanderbeek johnnyhawk kevinhansen arthiv brucemahl zahfparoo aubreytenn keenenivorywayan comedi'"
            ],
            "application/vnd.google.colaboratory.intrinsic+json": {
              "type": "string"
            }
          },
          "metadata": {},
          "execution_count": 43
        }
      ]
    },
    {
      "cell_type": "code",
      "source": [
        "new_data['soup']=new_data['soup'].apply(stem)"
      ],
      "metadata": {
        "id": "q2MDcbKrbGRZ"
      },
      "execution_count": null,
      "outputs": []
    },
    {
      "cell_type": "code",
      "source": [
        "from sklearn.feature_extraction.text import CountVectorizer\n",
        "cv = CountVectorizer(max_features=5000,stop_words='english')\n"
      ],
      "metadata": {
        "id": "qocvclUm2Fdp"
      },
      "execution_count": 45,
      "outputs": []
    },
    {
      "cell_type": "code",
      "source": [
        "vectors = cv.fit_transform(new_data['soup']).toarray()"
      ],
      "metadata": {
        "id": "6H7Nfy3i2JXh"
      },
      "execution_count": 46,
      "outputs": []
    },
    {
      "cell_type": "code",
      "source": [
        "cv.get_feature_names()[:40]"
      ],
      "metadata": {
        "id": "7MZJAT4RbZHJ",
        "colab": {
          "base_uri": "https://localhost:8080/"
        },
        "outputId": "3c777a92-7c6e-4214-95d4-ac902ca34f36"
      },
      "execution_count": 47,
      "outputs": [
        {
          "output_type": "stream",
          "name": "stderr",
          "text": [
            "/usr/local/lib/python3.7/dist-packages/sklearn/utils/deprecation.py:87: FutureWarning: Function get_feature_names is deprecated; get_feature_names is deprecated in 1.0 and will be removed in 1.2. Please use get_feature_names_out instead.\n",
            "  warnings.warn(msg, category=FutureWarning)\n"
          ]
        },
        {
          "output_type": "execute_result",
          "data": {
            "text/plain": [
              "['000',\n",
              " '10',\n",
              " '11',\n",
              " '12',\n",
              " '13',\n",
              " '14',\n",
              " '15',\n",
              " '16',\n",
              " '17',\n",
              " '18',\n",
              " '18th',\n",
              " '19',\n",
              " '1940',\n",
              " '1950',\n",
              " '1970',\n",
              " '1999',\n",
              " '19th',\n",
              " '20',\n",
              " '200',\n",
              " '30',\n",
              " '40',\n",
              " '50',\n",
              " '500',\n",
              " '50cent',\n",
              " '70',\n",
              " 'aaron',\n",
              " 'aaroneckhart',\n",
              " 'aaronpaul',\n",
              " 'aarontaylor',\n",
              " 'aaronyoo',\n",
              " 'aasifmandvi',\n",
              " 'abandon',\n",
              " 'abbiecornish',\n",
              " 'abduct',\n",
              " 'abigailbreslin',\n",
              " 'abil',\n",
              " 'abl',\n",
              " 'abo',\n",
              " 'aboard',\n",
              " 'abrahambenrubi']"
            ]
          },
          "metadata": {},
          "execution_count": 47
        }
      ]
    },
    {
      "cell_type": "code",
      "source": [
        "new_data['soup'].count()"
      ],
      "metadata": {
        "colab": {
          "base_uri": "https://localhost:8080/"
        },
        "id": "f4yKPeNDddjT",
        "outputId": "f69d1c86-a553-45c6-dd31-2065e4d96b66"
      },
      "execution_count": 48,
      "outputs": [
        {
          "output_type": "execute_result",
          "data": {
            "text/plain": [
              "4400"
            ]
          },
          "metadata": {},
          "execution_count": 48
        }
      ]
    },
    {
      "cell_type": "markdown",
      "source": [
        "There are 4400 movies in total,which means we have 4400 vectors.\n",
        "Each vectors contain 5000 features."
      ],
      "metadata": {
        "id": "0RyfN6n_eL2Q"
      }
    },
    {
      "cell_type": "markdown",
      "source": [
        "In the 5000 dimensional space each and every movie is plotted with their respective vectors"
      ],
      "metadata": {
        "id": "GYVIAgJ9ecsr"
      }
    },
    {
      "cell_type": "markdown",
      "source": [
        "We need to calculate the distance between each movie vectors.\n",
        "But in high dimensional space Euclidean distance fails.\n",
        "\n",
        "\n"
      ],
      "metadata": {
        "id": "AIbNM56-etUA"
      }
    },
    {
      "cell_type": "markdown",
      "source": [
        "Let us use Cosine similarity to calculate the angle between the each and every vectors"
      ],
      "metadata": {
        "id": "30B2yi7Ye5hH"
      }
    },
    {
      "cell_type": "code",
      "source": [
        "# Compute the Cosine Similarity \n",
        "from sklearn.metrics.pairwise import cosine_similarity\n",
        "\n",
        "similarity = cosine_similarity(vectors)"
      ],
      "metadata": {
        "id": "fmzyIUlF2Rpd"
      },
      "execution_count": 49,
      "outputs": []
    },
    {
      "cell_type": "code",
      "source": [
        "#Each movie is compared with the rest of the movies and returns a similarity score\n",
        "similarity.shape"
      ],
      "metadata": {
        "colab": {
          "base_uri": "https://localhost:8080/"
        },
        "id": "VNsFCamQfnND",
        "outputId": "f9476492-6b60-431d-d9c3-d9c003358944"
      },
      "execution_count": 50,
      "outputs": [
        {
          "output_type": "execute_result",
          "data": {
            "text/plain": [
              "(4400, 4400)"
            ]
          },
          "metadata": {},
          "execution_count": 50
        }
      ]
    },
    {
      "cell_type": "code",
      "source": [
        "#Returns the similarity score of the First movie in the array with all the 4400 movies \n",
        "#the first value is 1 , as the movie is compared with itself\n",
        "similarity[0]"
      ],
      "metadata": {
        "colab": {
          "base_uri": "https://localhost:8080/"
        },
        "id": "etei6NHcfzCa",
        "outputId": "311760c0-522f-44e7-f8b4-c198bd56e349"
      },
      "execution_count": 51,
      "outputs": [
        {
          "output_type": "execute_result",
          "data": {
            "text/plain": [
              "array([1.        , 0.02626129, 0.        , ..., 0.03713907, 0.02680281,\n",
              "       0.        ])"
            ]
          },
          "metadata": {},
          "execution_count": 51
        }
      ]
    },
    {
      "cell_type": "code",
      "source": [
        "def get_recommendations(movie):\n",
        "  #get the index of the movie\n",
        "  movie_index=new_data[new_data['movie_name'] ==movie].index[0]\n",
        "  distance=similarity[movie_index]\n",
        "  #sort the list of movies based on the top 10 similarity scores keeping the index value intact using enumerate\n",
        "  movies=sorted(list(enumerate(distance)),reverse=True,key=lambda x:x[1])[1:11]\n",
        "\n",
        "  for i in movies:\n",
        "    #returns the movie_name\n",
        "    print(new_data.iloc[i[0]].movie_name)\n",
        "    "
      ],
      "metadata": {
        "id": "moZfYcKXgciS"
      },
      "execution_count": 52,
      "outputs": []
    },
    {
      "cell_type": "markdown",
      "source": [
        "#get recommendation\n"
      ],
      "metadata": {
        "id": "bU5e4d78wZ-5"
      }
    },
    {
      "cell_type": "code",
      "source": [
        "get_recommendations('Batman Begins')"
      ],
      "metadata": {
        "colab": {
          "base_uri": "https://localhost:8080/"
        },
        "id": "M9Z6HMkNjXAT",
        "outputId": "37b1245b-660e-4ca8-8b63-2794a8c785da"
      },
      "execution_count": 53,
      "outputs": [
        {
          "output_type": "stream",
          "name": "stdout",
          "text": [
            "The Dark Knight\n",
            "The Dark Knight Rises\n",
            "Batman Unmasked: The Psychology of the Dark Knight\n",
            "Shottas\n",
            "Batman: Bad Blood\n",
            "Batman: The Dark Knight Returns, Part 1\n",
            "Brick Mansions\n",
            "The Raid 2\n",
            "Joker\n",
            "Batman: Hush\n"
          ]
        }
      ]
    },
    {
      "cell_type": "code",
      "source": [
        "get_recommendations('The Avengers')"
      ],
      "metadata": {
        "colab": {
          "base_uri": "https://localhost:8080/"
        },
        "id": "0g0qnCJjlGdH",
        "outputId": "fdeb5e54-c502-4f7e-b592-bb2baeabf087"
      },
      "execution_count": 54,
      "outputs": [
        {
          "output_type": "stream",
          "name": "stdout",
          "text": [
            "Avengers: Age of Ultron\n",
            "Avengers: Infinity War\n",
            "Avengers: Endgame\n",
            "Iron Man 2\n",
            "Thor\n",
            "Iron Man\n",
            "Iron Man 3\n",
            "Captain Marvel\n",
            "Captain America: The Winter Soldier\n",
            "Captain America: Civil War\n"
          ]
        }
      ]
    },
    {
      "cell_type": "code",
      "source": [
        "import pickle"
      ],
      "metadata": {
        "id": "_5aNYzZ8kWM3"
      },
      "execution_count": 55,
      "outputs": []
    },
    {
      "cell_type": "code",
      "source": [
        "#inserting movie_id column\n",
        "new_data.insert(loc=0,column='movie_id',value=data['movie_id'])"
      ],
      "metadata": {
        "id": "F3uUIZO2J21h"
      },
      "execution_count": 56,
      "outputs": []
    },
    {
      "cell_type": "code",
      "source": [
        "#saving the dataframe in the form of dictionary\n",
        "pickle.dump(new_data.to_dict(),open('movies.pkl','wb'))"
      ],
      "metadata": {
        "id": "y_PDqyhlkYR1"
      },
      "execution_count": 57,
      "outputs": []
    },
    {
      "cell_type": "code",
      "source": [
        "pickle.dump(similarity,open('similarity.pkl','wb'))"
      ],
      "metadata": {
        "id": "HrdpWD75r0sj"
      },
      "execution_count": 58,
      "outputs": []
    }
  ],
  "metadata": {
    "colab": {
      "collapsed_sections": [
        "mnewYsRuzuwC",
        "D6EssHk2qQ3S",
        "MigdyjJvrDQh",
        "IyJyHp1kFmtI",
        "ZRvJSBzewAnc",
        "GWwBNbJjcy22"
      ],
      "name": "movie_model.ipynb",
      "provenance": []
    },
    "kernelspec": {
      "display_name": "Python 3",
      "name": "python3"
    },
    "language_info": {
      "name": "python"
    }
  },
  "nbformat": 4,
  "nbformat_minor": 0
}